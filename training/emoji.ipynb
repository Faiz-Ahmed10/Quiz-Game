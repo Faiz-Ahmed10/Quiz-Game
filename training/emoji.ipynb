{
 "cells": [
  {
   "cell_type": "code",
   "execution_count": 1,
   "metadata": {},
   "outputs": [
    {
     "name": "stdout",
     "output_type": "stream",
     "text": [
      "Model Accuracy: 1.0\n"
     ]
    }
   ],
   "source": [
    "import pandas as pd\n",
    "from sklearn.model_selection import train_test_split\n",
    "from sklearn.ensemble import RandomForestClassifier\n",
    "from sklearn.preprocessing import LabelEncoder\n",
    "import pickle\n",
    "\n",
    "# Load the dataset from the CSV file\n",
    "df = pd.read_csv('datasets/emoji_dataset.csv')\n",
    "\n",
    "# Map emojis to numbers for model training\n",
    "emoji_to_num = {\n",
    "    '😊': 1, '😃': 2, '😄': 3, '😎': 4, '😇': 5,\n",
    "    '😢': 6, '😞': 7, '😔': 8, '😱': 9, '😂': 10\n",
    "}\n",
    "\n",
    "# Map emojis in dataset to numbers\n",
    "for col in ['emoji_1', 'emoji_2', 'emoji_3', 'emoji_4', 'emoji_5']:\n",
    "    df[col] = df[col].map(emoji_to_num)\n",
    "\n",
    "# Encode labels (happy, depressed)\n",
    "label_encoder = LabelEncoder()\n",
    "df['label'] = label_encoder.fit_transform(df['label'])\n",
    "\n",
    "# Split the dataset into features (X) and labels (y)\n",
    "X = df[['emoji_1', 'emoji_2', 'emoji_3', 'emoji_4', 'emoji_5']]\n",
    "y = df['label']\n",
    "\n",
    "# Split into training and testing data\n",
    "X_train, X_test, y_train, y_test = train_test_split(X, y, test_size=0.2, random_state=42)\n",
    "\n",
    "# Train the RandomForestClassifier\n",
    "model = RandomForestClassifier(n_estimators=100, random_state=42)\n",
    "model.fit(X_train, y_train)\n",
    "\n",
    "# Save the trained model to a file\n",
    "with open('emoji_mood_model.pkl', 'wb') as model_file:\n",
    "    pickle.dump(model, model_file)\n",
    "\n",
    "# Save the label encoder to map the predictions back to labels\n",
    "with open('label_encoder.pkl', 'wb') as le_file:\n",
    "    pickle.dump(label_encoder, le_file)\n",
    "\n",
    "# Optionally, check the model accuracy\n",
    "accuracy = model.score(X_test, y_test)\n",
    "print(f'Model Accuracy: {accuracy}')\n"
   ]
  }
 ],
 "metadata": {
  "kernelspec": {
   "display_name": "Python 3",
   "language": "python",
   "name": "python3"
  },
  "language_info": {
   "codemirror_mode": {
    "name": "ipython",
    "version": 3
   },
   "file_extension": ".py",
   "mimetype": "text/x-python",
   "name": "python",
   "nbconvert_exporter": "python",
   "pygments_lexer": "ipython3",
   "version": "3.12.0"
  }
 },
 "nbformat": 4,
 "nbformat_minor": 2
}
