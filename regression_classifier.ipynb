{
 "cells": [
  {
   "cell_type": "code",
   "execution_count": 1,
   "metadata": {},
   "outputs": [
    {
     "name": "stdout",
     "output_type": "stream",
     "text": [
      "R^2 Score: -0.84\n"
     ]
    },
    {
     "data": {
      "text/plain": [
       "['color_mood_regressor.pkl']"
      ]
     },
     "execution_count": 1,
     "metadata": {},
     "output_type": "execute_result"
    }
   ],
   "source": [
    "import numpy as np\n",
    "import pandas as pd\n",
    "from sklearn.ensemble import RandomForestRegressor\n",
    "from sklearn.model_selection import train_test_split\n",
    "from sklearn.preprocessing import LabelEncoder\n",
    "import joblib\n",
    "\n",
    "# Define a dataset with RGB colors and mood intensity values (example)\n",
    "data = {\n",
    "    'color': ['#FFD700', '#FF0000', '#0000FF', '#800080', '#C0C0C0', '#32CD32', '#FFA500', '#FFC0CB'],\n",
    "    'mood_intensity': [0.9, 0.3, 0.1, 0.4, 0.2, 0.8, 0.7, 0.6]  # Mood intensity values (between 0 and 1)\n",
    "}\n",
    "\n",
    "# Convert the color to RGB\n",
    "def hex_to_rgb(hex_color):\n",
    "    hex_color = hex_color.lstrip('#')\n",
    "    return [int(hex_color[i:i+2], 16) for i in (0, 2, 4)]\n",
    "\n",
    "# Convert the color data into RGB values\n",
    "data['rgb'] = [hex_to_rgb(color) for color in data['color']]\n",
    "\n",
    "# Create a DataFrame\n",
    "df = pd.DataFrame(data)\n",
    "\n",
    "# Features (RGB values) and target (mood intensity)\n",
    "X = np.array(df['rgb'].tolist())\n",
    "y = df['mood_intensity']\n",
    "\n",
    "# Split the data into training and testing sets\n",
    "X_train, X_test, y_train, y_test = train_test_split(X, y, test_size=0.25, random_state=42)\n",
    "\n",
    "# Train a Random Forest Regressor\n",
    "model = RandomForestRegressor()\n",
    "model.fit(X_train, y_train)\n",
    "\n",
    "# Evaluate the model\n",
    "score = model.score(X_test, y_test)\n",
    "print(f'R^2 Score: {score:.2f}')\n",
    "\n",
    "# Save the trained model\n",
    "joblib.dump(model, 'color_mood_regressor.pkl')\n"
   ]
  }
 ],
 "metadata": {
  "kernelspec": {
   "display_name": "Python 3",
   "language": "python",
   "name": "python3"
  },
  "language_info": {
   "codemirror_mode": {
    "name": "ipython",
    "version": 3
   },
   "file_extension": ".py",
   "mimetype": "text/x-python",
   "name": "python",
   "nbconvert_exporter": "python",
   "pygments_lexer": "ipython3",
   "version": "3.12.3"
  }
 },
 "nbformat": 4,
 "nbformat_minor": 2
}
